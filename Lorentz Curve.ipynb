{
 "cells": [
  {
   "cell_type": "markdown",
   "id": "31e6b0d6",
   "metadata": {},
   "source": [
    "# Lorentz Curve"
   ]
  },
  {
   "cell_type": "code",
   "execution_count": 1,
   "id": "23e63748",
   "metadata": {},
   "outputs": [],
   "source": [
    "import matplotlib.pyplot as plt\n",
    "import numpy as np"
   ]
  },
  {
   "cell_type": "code",
   "execution_count": null,
   "id": "f0b880e1",
   "metadata": {},
   "outputs": [],
   "source": [
    "# Generate some example income data\n",
    "population = np.linspace(0, 1, 101)  # Cumulative percentage of population\n",
    "income_share = np.linspace(0, 1, 101)  # Cumulative percentage of income\n",
    "\n",
    "# Plot Lorentz Curve\n",
    "plt.plot(population, income_share, label='Lorentz Curve')\n",
    "plt.plot([0, 1], [0, 1], color='red', linestyle='--', label='Perfect Equality')  # Diagonal line\n",
    "\n",
    "# Set axis labels and title\n",
    "plt.xlabel('Cumulative Percentage of Population')\n",
    "plt.ylabel('Cumulative Percentage of Income')\n",
    "plt.title('Lorentz Curve')\n",
    "\n",
    "# Add legend\n",
    "plt.legend()\n",
    "\n",
    "# Show the plot\n",
    "plt.show()\n"
   ]
  },
  {
   "cell_type": "code",
   "execution_count": null,
   "id": "47b45213",
   "metadata": {},
   "outputs": [],
   "source": []
  }
 ],
 "metadata": {
  "kernelspec": {
   "display_name": "Python 3 (ipykernel)",
   "language": "python",
   "name": "python3"
  },
  "language_info": {
   "codemirror_mode": {
    "name": "ipython",
    "version": 3
   },
   "file_extension": ".py",
   "mimetype": "text/x-python",
   "name": "python",
   "nbconvert_exporter": "python",
   "pygments_lexer": "ipython3",
   "version": "3.9.13"
  }
 },
 "nbformat": 4,
 "nbformat_minor": 5
}
